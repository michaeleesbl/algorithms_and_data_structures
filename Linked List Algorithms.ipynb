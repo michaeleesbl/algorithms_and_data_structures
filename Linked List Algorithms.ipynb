{
 "cells": [
  {
   "cell_type": "markdown",
   "metadata": {},
   "source": [
    "### Merge Two Sorted Lists"
   ]
  },
  {
   "cell_type": "code",
   "execution_count": 34,
   "metadata": {},
   "outputs": [],
   "source": [
    "class ListNode:\n",
    "    def __init__(self, val=0, next=None):\n",
    "        self.val = val\n",
    "        self.next = next"
   ]
  },
  {
   "cell_type": "code",
   "execution_count": 35,
   "metadata": {},
   "outputs": [],
   "source": [
    "def listToListNode(l):\n",
    "    prehead = ListNode(-1)\n",
    "    prev = prehead\n",
    "    length = len(l)\n",
    "    for i in range(length):\n",
    "        prev.next = ListNode(l[i])\n",
    "        prev = prev.next\n",
    "    return prehead.next"
   ]
  },
  {
   "cell_type": "code",
   "execution_count": 36,
   "metadata": {},
   "outputs": [],
   "source": [
    "def mergeTwoLists(l1, l2):\n",
    "    \"\"\"\n",
    "    Inputs\n",
    "    l1 and l2: python lists that represent sortedlists\n",
    "    \n",
    "    Output\n",
    "    ListNode that merges l1 and l2 and is sorted\n",
    "    \"\"\"\n",
    "    ln1 = listToListNode(l1)\n",
    "    ln2 = listToListNode(l2)\n",
    "    prehead = ListNode(-1)\n",
    "    prev = prehead\n",
    "    while ln1 and ln2:\n",
    "        if ln1.val <= ln2.val:\n",
    "            prev.next = ln1\n",
    "            ln1 = ln1.next\n",
    "        else:\n",
    "            prev.next = ln2\n",
    "            ln2 = ln2.next\n",
    "        prev = prev.next\n",
    "        \n",
    "    # one of ln1 or ln2 is non-null\n",
    "    prev.next = ln1 if ln1 is not None else ln2\n",
    "    \n",
    "    return prehead.next"
   ]
  },
  {
   "cell_type": "code",
   "execution_count": 37,
   "metadata": {},
   "outputs": [
    {
     "name": "stdout",
     "output_type": "stream",
     "text": [
      "1\n",
      "1\n",
      "2\n",
      "3\n",
      "4\n",
      "4\n",
      "5\n",
      "7\n"
     ]
    }
   ],
   "source": [
    "#test\n",
    "ans = mergeTwoLists([1,2,4],[1,3,4,5,7])\n",
    "while(ans != None):\n",
    "    print(ans.val)\n",
    "    ans = ans.next"
   ]
  }
 ],
 "metadata": {
  "kernelspec": {
   "display_name": "Python 3",
   "language": "python",
   "name": "python3"
  },
  "language_info": {
   "codemirror_mode": {
    "name": "ipython",
    "version": 3
   },
   "file_extension": ".py",
   "mimetype": "text/x-python",
   "name": "python",
   "nbconvert_exporter": "python",
   "pygments_lexer": "ipython3",
   "version": "3.8.3"
  }
 },
 "nbformat": 4,
 "nbformat_minor": 4
}
