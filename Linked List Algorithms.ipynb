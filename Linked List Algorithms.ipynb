{
 "cells": [
  {
   "cell_type": "code",
   "execution_count": 44,
   "metadata": {},
   "outputs": [],
   "source": [
    "# to be used for all algorithms below\n",
    "class ListNode:\n",
    "    def __init__(self, val=0, next=None):\n",
    "        self.val = val\n",
    "        self.next = next"
   ]
  },
  {
   "cell_type": "code",
   "execution_count": 45,
   "metadata": {},
   "outputs": [],
   "source": [
    "# helper function to convert python list to LinkedList\n",
    "def listToListNode(l):\n",
    "    \"\"\"\n",
    "    Input:\n",
    "        l: a sorted python list\n",
    "    \n",
    "    Output:\n",
    "        out: ListNode representing l\n",
    "    \"\"\"\n",
    "    prehead = ListNode(-1)\n",
    "    prev = prehead\n",
    "    length = len(l)\n",
    "    for i in range(length):\n",
    "        prev.next = ListNode(l[i])\n",
    "        prev = prev.next\n",
    "    out = prehead.next\n",
    "    return out"
   ]
  },
  {
   "cell_type": "markdown",
   "metadata": {},
   "source": [
    "### Merge Two Sorted Lists"
   ]
  },
  {
   "cell_type": "code",
   "execution_count": 46,
   "metadata": {},
   "outputs": [],
   "source": [
    "def mergeTwoLists(l1, l2):\n",
    "    \"\"\"\n",
    "    Input:\n",
    "        l1: a sorted python list\n",
    "        l2: a second sorted python list\n",
    "    \n",
    "    Output:\n",
    "        out: ListNode that merges l1 and l2 and is sorted\n",
    "    \"\"\"\n",
    "    ln1 = listToListNode(l1)\n",
    "    ln2 = listToListNode(l2)\n",
    "    prehead = ListNode(-1)\n",
    "    prev = prehead\n",
    "    while ln1 and ln2:\n",
    "        if ln1.val <= ln2.val:\n",
    "            prev.next = ln1\n",
    "            ln1 = ln1.next\n",
    "        else:\n",
    "            prev.next = ln2\n",
    "            ln2 = ln2.next\n",
    "        prev = prev.next\n",
    "        \n",
    "    # one of ln1 or ln2 is non-null\n",
    "    prev.next = ln1 if ln1 is not None else ln2\n",
    "    out = prehead.next\n",
    "    return prehead.next"
   ]
  },
  {
   "cell_type": "code",
   "execution_count": 47,
   "metadata": {},
   "outputs": [
    {
     "name": "stdout",
     "output_type": "stream",
     "text": [
      "[1, 2, 4]\n",
      "[1, 3, 4, 5, 7]\n",
      "[1, 1, 2, 3, 4, 4, 5, 7]\n"
     ]
    }
   ],
   "source": [
    "#test\n",
    "l1, l2 = [1,2,4], [1,3,4,5,7]\n",
    "ans = mergeTwoLists(l1, l2)\n",
    "output = []\n",
    "while(ans != None):\n",
    "    output.append(ans.val)\n",
    "    ans = ans.next\n",
    "print(l1)\n",
    "print(l2)\n",
    "print(output)"
   ]
  },
  {
   "cell_type": "markdown",
   "metadata": {},
   "source": [
    "### Reverse Linked List II"
   ]
  },
  {
   "cell_type": "code",
   "execution_count": 48,
   "metadata": {},
   "outputs": [],
   "source": [
    "def reverseBetween(head, m, n):\n",
    "    \"\"\"\n",
    "    Input:\n",
    "        head: a python list\n",
    "        m = index where reversal is to start\n",
    "        n = index where reversal is to end\n",
    "    Output:\n",
    "        out: ListNode that is reversed representation of head\n",
    "    \"\"\"\n",
    "    first = head[:m]\n",
    "    second = head[m:n+1]\n",
    "    second.reverse()\n",
    "    last = head[n+1:]\n",
    "    total_list = first + second + last\n",
    "    \n",
    "    out = listToListNode(total_list)\n",
    "    return out"
   ]
  },
  {
   "cell_type": "code",
   "execution_count": 49,
   "metadata": {},
   "outputs": [
    {
     "name": "stdout",
     "output_type": "stream",
     "text": [
      "[1, 2, 5, 4, 3]\n"
     ]
    }
   ],
   "source": [
    "#test\n",
    "head = [1,2,3,4,5]\n",
    "m = 2\n",
    "n = 4\n",
    "ans = reverseBetween(head, m, n)\n",
    "output = []\n",
    "while(ans != None):\n",
    "    output.append(ans.val)\n",
    "    ans = ans.next\n",
    "print(output)"
   ]
  },
  {
   "cell_type": "code",
   "execution_count": 63,
   "metadata": {},
   "outputs": [],
   "source": [
    "# recursive implementation\n",
    "def reverseBetweenRecursive(head, m, n):\n",
    "    \"\"\"\n",
    "    :type head: ListNode\n",
    "    :type m: int\n",
    "    :type n: int\n",
    "    :rtype: ListNode\n",
    "    \"\"\"\n",
    "\n",
    "    if not head:\n",
    "          return None\n",
    "\n",
    "    left, right = head, head\n",
    "    stop = False\n",
    "    def recurseAndReverse(right, m, n):\n",
    "        nonlocal left, stop\n",
    "\n",
    "        # base case. Don't proceed any further\n",
    "        if n == 1:\n",
    "            return\n",
    "\n",
    "        # Keep moving the right pointer one step forward until (n == 1)\n",
    "        right = right.next\n",
    "\n",
    "        # Keep moving left pointer to the right until we reach the proper node\n",
    "        # from where the reversal is to start.\n",
    "        if m > 1:\n",
    "            left = left.next\n",
    "\n",
    "        # Recurse with m and n reduced.\n",
    "        recurseAndReverse(right, m - 1, n - 1)\n",
    "\n",
    "        # In case both the pointers cross each other or become equal, we\n",
    "        # stop i.e. don't swap data any further. We are done reversing at this\n",
    "        # point.\n",
    "        if left == right or right.next == left:\n",
    "            stop = True\n",
    "\n",
    "        # Until the boolean stop is false, swap data between the two pointers     \n",
    "        if not stop:\n",
    "            left.val, right.val = right.val, left.val\n",
    "        # Move left one step to the right.\n",
    "        # The right pointer moves one step back via backtracking.\n",
    "            left = left.next           \n",
    "\n",
    "    recurseAndReverse(right, m, n)\n",
    "    return head"
   ]
  },
  {
   "cell_type": "code",
   "execution_count": 65,
   "metadata": {},
   "outputs": [
    {
     "name": "stdout",
     "output_type": "stream",
     "text": [
      "[7, 9, 8, 1, 10, 2, 6]\n"
     ]
    }
   ],
   "source": [
    "#test\n",
    "head = listToListNode([7,9,2,10,1,8,6])\n",
    "m = 3\n",
    "n = 6\n",
    "ans = reverseBetweenRecursive(head, m, n)\n",
    "output = []\n",
    "while(ans != None):\n",
    "    output.append(ans.val)\n",
    "    ans = ans.next\n",
    "print(output)"
   ]
  },
  {
   "cell_type": "markdown",
   "metadata": {},
   "source": [
    "### Copy List with Random Pointer"
   ]
  },
  {
   "cell_type": "code",
   "execution_count": 35,
   "metadata": {},
   "outputs": [],
   "source": [
    "class Node:\n",
    "    def __init__(x, next = None, random = None):\n",
    "        self.val = int(x)\n",
    "        self.next = next\n",
    "        self.random = random"
   ]
  },
  {
   "cell_type": "code",
   "execution_count": 36,
   "metadata": {},
   "outputs": [],
   "source": [
    "def copyRandomList(head):\n",
    "    \"\"\"\n",
    "    :type head: Node\n",
    "    :rtype: Node\n",
    "    \"\"\"\n",
    "    if not head:\n",
    "        return None\n",
    "    \n",
    "    ptr = head\n",
    "    while ptr:\n",
    "        new_node = Node(ptr.val, None, None)\n",
    "        new_node.next = ptr.next\n",
    "        ptr.next = new_node\n",
    "        ptr = new_node.next\n",
    "        \n",
    "    ptr = head\n",
    "    \n",
    "    #link random pointers of new nodes created\n",
    "    while ptr:\n",
    "        ptr.next.random = ptr.random.next if ptr.random else None\n",
    "        ptr = ptr.next.next\n",
    "        \n",
    "    #unweave to have separate copy\n",
    "    ptr_old_list = head\n",
    "    ptr_new_list = head.next\n",
    "    head_old = head.next\n",
    "    while ptr_old_list:\n",
    "        ptr_old_list.next = ptr_old_list.next.next\n",
    "        ptr_new_list.next = ptr_new_list.next.next if ptr_new_list.next else None\n",
    "        ptr_old_list = ptr_old_list.next\n",
    "        ptr_new_list = ptr_new_list.next\n",
    "    return head_old"
   ]
  }
 ],
 "metadata": {
  "kernelspec": {
   "display_name": "Python 3",
   "language": "python",
   "name": "python3"
  },
  "language_info": {
   "codemirror_mode": {
    "name": "ipython",
    "version": 3
   },
   "file_extension": ".py",
   "mimetype": "text/x-python",
   "name": "python",
   "nbconvert_exporter": "python",
   "pygments_lexer": "ipython3",
   "version": "3.8.3"
  }
 },
 "nbformat": 4,
 "nbformat_minor": 4
}
