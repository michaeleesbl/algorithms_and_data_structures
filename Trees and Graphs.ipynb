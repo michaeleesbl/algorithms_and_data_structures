{
 "cells": [
  {
   "cell_type": "code",
   "execution_count": 1,
   "metadata": {},
   "outputs": [],
   "source": [
    "class TreeNode:\n",
    "    def __init__(self, val=0, left=None, right=None):\n",
    "        self.val = val\n",
    "        self.left = left\n",
    "        self.right = right"
   ]
  },
  {
   "cell_type": "markdown",
   "metadata": {},
   "source": [
    "### Validate Binary Search Tree"
   ]
  },
  {
   "cell_type": "code",
   "execution_count": 2,
   "metadata": {},
   "outputs": [],
   "source": [
    "def isValidBST(root):\n",
    "    \"\"\"\n",
    "    :type root: TreeNode\n",
    "    :rtype: bool\n",
    "    \"\"\"\n",
    "    def helper(node, lower = float('-inf'), upper = float('inf')):\n",
    "        if not node:\n",
    "            return True\n",
    "        \n",
    "        val = node.val\n",
    "        if val <= lower or val >= upper:\n",
    "            return False\n",
    "\n",
    "        if not helper(node.right, val, upper):\n",
    "            return False\n",
    "        if not helper(node.left, lower, val):\n",
    "            return False\n",
    "        return True\n",
    "    return helper(root)\n",
    "    "
   ]
  },
  {
   "cell_type": "code",
   "execution_count": 3,
   "metadata": {},
   "outputs": [
    {
     "data": {
      "text/plain": [
       "True"
      ]
     },
     "execution_count": 3,
     "metadata": {},
     "output_type": "execute_result"
    }
   ],
   "source": [
    "#test\n",
    "root = TreeNode(5, TreeNode(1), TreeNode(7, TreeNode(6), TreeNode(8)))\n",
    "isValidBST(root)"
   ]
  },
  {
   "cell_type": "markdown",
   "metadata": {},
   "source": [
    "### Flatten Binary Tree to Linked-List"
   ]
  },
  {
   "cell_type": "markdown",
   "metadata": {},
   "source": [
    "#### Approach 1: Recursion"
   ]
  },
  {
   "cell_type": "code",
   "execution_count": 4,
   "metadata": {},
   "outputs": [],
   "source": [
    "def flattenTree(node):\n",
    "    # case null scenario\n",
    "    if not node:\n",
    "        return None\n",
    "    # for leaf return node\n",
    "    if not node.left and not node.right:\n",
    "        return node\n",
    "        \n",
    "    # recursively flatten left subtree\n",
    "    leftTail = flattenTree(node.left)\n",
    "        \n",
    "    # same for right subtree\n",
    "    rightTail = flattenTree(node.right)\n",
    "        \n",
    "    # if E left subtree, shuffle connections\n",
    "    if leftTail:\n",
    "        leftTail.right = node.right\n",
    "        node.right = node.left\n",
    "        node.left = None\n",
    "            \n",
    "    return rightTail if rightTail else leftTail\n",
    "def flatten(root):\n",
    "    \"\"\"\n",
    "    Do not return anything, modify root in-place instead.\n",
    "    \"\"\"\n",
    "    # top to bottom, left to right\n",
    "        \n",
    "    flattenTree(root)"
   ]
  },
  {
   "cell_type": "code",
   "execution_count": 5,
   "metadata": {},
   "outputs": [],
   "source": [
    "#test\n",
    "root = TreeNode(5, \n",
    "                TreeNode(2, TreeNode(6, TreeNode(44), TreeNode(23))), \n",
    "                TreeNode(1, TreeNode(11), TreeNode(None))\n",
    "               )\n",
    "\n",
    "flatten(root)"
   ]
  },
  {
   "cell_type": "markdown",
   "metadata": {},
   "source": [
    "### Populating Next Right Pointers"
   ]
  },
  {
   "cell_type": "markdown",
   "metadata": {},
   "source": [
    "#### Algorithm\n",
    "1. Initialize a queue Q \n",
    "\n",
    "    i. Can add pair of (node, level) to the queue and whenever adding children of a node, add (node.left, parent_level + 1) and (node.right, parent_level + 1). This isn't that efficient because we need ***all*** nodes on same level and we'd need another data structure just for that. \n",
    "    \n",
    "    ii. More efficient way is to use some demarcation betwen levels. \n",
    "        - Insert a NULL entry in the queue which marks end of the prev level and start of new level\n",
    "        - Would still consume memory proportional to # of levels in the tree \n",
    "        \n",
    "    iii. Chosen approach uses nested loop strucutre to obviate need for NULL pointer.  At each step, record size of the queue and that should always correpond to ***all*** nodes on a particular level.  \n",
    "    \n",
    "2. Add the root of the tree in the queue.  Since there's only one node at level 0, don't need to establish any connections and can move onto the **while** loop\n",
    "\n",
    "3. Have an outer **whie** loop which iterates over each level one by one, and for each level, there's a **for** loop which iterates over all the nodes at a given level  \n",
    "\n",
    "4. When pop a node inside **for** loop, add children at the back of the queue.  Also, the head of the queue is the next element in order, so easily establish the new pointers\n"
   ]
  },
  {
   "cell_type": "code",
   "execution_count": 20,
   "metadata": {},
   "outputs": [],
   "source": [
    "import collections\n",
    "\n",
    "def connect(root):\n",
    "    if not root:\n",
    "        return root\n",
    "    \n",
    "    # step 1\n",
    "    Q = collections.deque([root])\n",
    "    \n",
    "    # outer while loop\n",
    "    while Q:\n",
    "        \n",
    "        # size of the queue\n",
    "        size = len(Q)\n",
    "        for i in range(size):\n",
    "            \n",
    "            # pop a node from the front of the queue\n",
    "            node = Q.popleft()\n",
    "            print(node.val)\n",
    "            if i < size - 1:\n",
    "                node.next = Q[0]\n",
    "            else:\n",
    "                print(\"#\")\n",
    "            # add the children, if any, to back of the queue\n",
    "            if node.left:\n",
    "                Q.append(node.left)\n",
    "            if node.right:\n",
    "                Q.append(node.right)\n",
    "    \n",
    "    return root"
   ]
  },
  {
   "cell_type": "code",
   "execution_count": 21,
   "metadata": {},
   "outputs": [],
   "source": [
    "root = TreeNode(1, \n",
    "                TreeNode(2, TreeNode(4), TreeNode(5)), \n",
    "                TreeNode(3, TreeNode(6), TreeNode(7))\n",
    "               )"
   ]
  },
  {
   "cell_type": "code",
   "execution_count": 22,
   "metadata": {},
   "outputs": [
    {
     "name": "stdout",
     "output_type": "stream",
     "text": [
      "1\n",
      "#\n",
      "2\n",
      "3\n",
      "#\n",
      "4\n",
      "5\n",
      "6\n",
      "7\n",
      "#\n"
     ]
    },
    {
     "data": {
      "text/plain": [
       "<__main__.TreeNode at 0x16ef2c845b0>"
      ]
     },
     "execution_count": 22,
     "metadata": {},
     "output_type": "execute_result"
    }
   ],
   "source": [
    "connect(root)"
   ]
  },
  {
   "cell_type": "code",
   "execution_count": null,
   "metadata": {},
   "outputs": [],
   "source": []
  }
 ],
 "metadata": {
  "kernelspec": {
   "display_name": "Python 3",
   "language": "python",
   "name": "python3"
  },
  "language_info": {
   "codemirror_mode": {
    "name": "ipython",
    "version": 3
   },
   "file_extension": ".py",
   "mimetype": "text/x-python",
   "name": "python",
   "nbconvert_exporter": "python",
   "pygments_lexer": "ipython3",
   "version": "3.8.3"
  }
 },
 "nbformat": 4,
 "nbformat_minor": 4
}
