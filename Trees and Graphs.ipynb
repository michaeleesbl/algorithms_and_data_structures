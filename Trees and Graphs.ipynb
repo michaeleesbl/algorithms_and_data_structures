{
 "cells": [
  {
   "cell_type": "code",
   "execution_count": 2,
   "metadata": {},
   "outputs": [],
   "source": [
    "class TreeNode:\n",
    "    def __init__(self, val=0, left=None, right=None):\n",
    "        self.val = val\n",
    "        self.left = left\n",
    "        self.right = right"
   ]
  },
  {
   "cell_type": "markdown",
   "metadata": {},
   "source": [
    "### Validate Binary Search Tree"
   ]
  },
  {
   "cell_type": "code",
   "execution_count": 10,
   "metadata": {},
   "outputs": [],
   "source": [
    "def isValidBST(root):\n",
    "    \"\"\"\n",
    "    :type root: TreeNode\n",
    "    :rtype: bool\n",
    "    \"\"\"\n",
    "    def helper(node, lower = float('-inf'), upper = float('inf')):\n",
    "        if not node:\n",
    "            return True\n",
    "        \n",
    "        val = node.val\n",
    "        if val <= lower or val >= upper:\n",
    "            return False\n",
    "\n",
    "        if not helper(node.right, val, upper):\n",
    "            return False\n",
    "        if not helper(node.left, lower, val):\n",
    "            return False\n",
    "        return True\n",
    "    return helper(root)\n",
    "    "
   ]
  },
  {
   "cell_type": "code",
   "execution_count": 11,
   "metadata": {},
   "outputs": [
    {
     "data": {
      "text/plain": [
       "True"
      ]
     },
     "execution_count": 11,
     "metadata": {},
     "output_type": "execute_result"
    }
   ],
   "source": [
    "#test\n",
    "root = TreeNode(5, TreeNode(1), TreeNode(7, TreeNode(6), TreeNode(8)))\n",
    "isValidBST(root)"
   ]
  },
  {
   "cell_type": "markdown",
   "metadata": {},
   "source": [
    "### Flatten Binary Tree to Linked-List"
   ]
  },
  {
   "cell_type": "markdown",
   "metadata": {},
   "source": [
    "#### Approach 1: Recursion"
   ]
  },
  {
   "cell_type": "code",
   "execution_count": 43,
   "metadata": {},
   "outputs": [],
   "source": [
    "    def flattenTree(node):\n",
    "        # case null scenario\n",
    "        if not node:\n",
    "            return None\n",
    "        # for leaf return node\n",
    "        if not node.left and not node.right:\n",
    "            return node\n",
    "        \n",
    "        # recursively flatten left subtree\n",
    "        leftTail = flattenTree(node.left)\n",
    "        \n",
    "        # same for right subtree\n",
    "        rightTail = flattenTree(node.right)\n",
    "        \n",
    "        # if E left subtree, shuffle connections\n",
    "        if leftTail:\n",
    "            leftTail.right = node.right\n",
    "            node.right = node.left\n",
    "            node.left = None\n",
    "            \n",
    "        return rightTail if rightTail else leftTail\n",
    "    def flatten(root):\n",
    "        \"\"\"\n",
    "        Do not return anything, modify root in-place instead.\n",
    "        \"\"\"\n",
    "        # top to bottom, left to right\n",
    "        \n",
    "        flattenTree(root)"
   ]
  },
  {
   "cell_type": "code",
   "execution_count": 44,
   "metadata": {},
   "outputs": [],
   "source": [
    "#test\n",
    "root = TreeNode(5, \n",
    "                TreeNode(2, TreeNode(6, TreeNode(44), TreeNode(23))), \n",
    "                TreeNode(1, TreeNode(11), TreeNode(None))\n",
    "               )\n",
    "\n",
    "flatten(root)"
   ]
  },
  {
   "cell_type": "code",
   "execution_count": null,
   "metadata": {},
   "outputs": [],
   "source": []
  }
 ],
 "metadata": {
  "kernelspec": {
   "display_name": "Python 3",
   "language": "python",
   "name": "python3"
  },
  "language_info": {
   "codemirror_mode": {
    "name": "ipython",
    "version": 3
   },
   "file_extension": ".py",
   "mimetype": "text/x-python",
   "name": "python",
   "nbconvert_exporter": "python",
   "pygments_lexer": "ipython3",
   "version": "3.8.3"
  }
 },
 "nbformat": 4,
 "nbformat_minor": 4
}
