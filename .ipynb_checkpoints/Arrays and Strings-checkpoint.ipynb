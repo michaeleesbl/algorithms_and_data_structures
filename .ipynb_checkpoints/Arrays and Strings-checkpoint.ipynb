{
 "cells": [
  {
   "cell_type": "markdown",
   "metadata": {},
   "source": [
    "### Pascal's Triangle"
   ]
  },
  {
   "cell_type": "code",
   "execution_count": 110,
   "metadata": {},
   "outputs": [],
   "source": [
    "def generate(numRows):\n",
    "    \"\"\"\n",
    "    :type numRows: int\n",
    "    :rtype: List[List[int]]\n",
    "    \"\"\"\n",
    "    if numRows == 0: return []\n",
    "    rows = []\n",
    "    def generateNewRow(oldRow):\n",
    "        if len(oldRow) == 1:\n",
    "            return [1, 1]\n",
    "        newRow = [1] * (len(oldRow) + 1)\n",
    "        for i in range(1, len(oldRow)):\n",
    "            newRow[i] = oldRow[i - 1] + oldRow[i]\n",
    "        return newRow\n",
    "\n",
    "    rows.append([1])\n",
    "    for i in range(1, numRows):\n",
    "        newRow = generateNewRow(rows[i - 1])\n",
    "        #print(newRow)\n",
    "        rows.append(newRow)\n",
    "        row = newRow\n",
    "    return rows"
   ]
  },
  {
   "cell_type": "code",
   "execution_count": 111,
   "metadata": {},
   "outputs": [
    {
     "name": "stdout",
     "output_type": "stream",
     "text": [
      "[1]\n",
      "[1, 1]\n",
      "[1, 2, 1]\n",
      "[1, 3, 3, 1]\n",
      "[1, 4, 6, 4, 1]\n"
     ]
    }
   ],
   "source": [
    "#test\n",
    "pascal_five = generate(5)\n",
    "for i in range(len(pascal_five)):\n",
    "    print(pascal_five[i])"
   ]
  },
  {
   "cell_type": "markdown",
   "metadata": {},
   "source": [
    "### Integer to English Words"
   ]
  },
  {
   "cell_type": "code",
   "execution_count": 425,
   "metadata": {},
   "outputs": [],
   "source": [
    "def numberToWords(num):\n",
    "    if num == 0: return \"Zero\"\n",
    "    # numDict to be used for nums in ones or hundreds place\n",
    "    nums = [str(i) for i in range(0,10)]\n",
    "    numStrings = [\"\",\"One\",\"Two\",\"Three\",\"Four\",\"Five\",\"Six\",\"Seven\",\"Eight\",\"Nine\"]\n",
    "    numDict = dict(zip(nums, numStrings))\n",
    "    \n",
    "    # to be used when tens place is 1\n",
    "    numsTensOne = [str(i) for i in range(10,20)]\n",
    "    numsTensOneStrings = [\"Ten\",\"Eleven\",\"Twelve\",\"Thirteen\",\"Fourteen\",\"Fifteen\",\"Sixteen\",\"Seventeen\",\"Eighteen\",\"Nineteen\"]\n",
    "    tensOneDict = dict(zip(numsTensOne, numsTensOneStrings))\n",
    "    \n",
    "    # to be used when tens place is > 1\n",
    "    numsTens = [str(i) for i in range(2,10)]\n",
    "    numsTensStrings = [\"Twenty\",\"Thirty\",\"Forty\",\"Fifty\",\"Sixty\",\"Seventy\",\"Eighty\",\"Ninety\"]\n",
    "    numsTensDict = dict(zip(numsTens, numsTensStrings))\n",
    "\n",
    "    def splitByThousands(num):\n",
    "        n = num\n",
    "        triples = []\n",
    "\n",
    "        while (n / 1000) > 0:\n",
    "            triples.append(str(int(n % 1000)))\n",
    "            n = int(n / 1000)\n",
    "        triples.reverse()\n",
    "        triples = [format(t, '0>' + str(3)) for t in triples]\n",
    "        \n",
    "        return triples\n",
    "\n",
    "    appendix = [\"Billion\", \"Million\", \"Thousand\",\"\"]\n",
    "    d = appendix[-1 * len(splitByThousands(num)):]\n",
    "    \n",
    "    def tripleToWord(triple):\n",
    "        def tensAndOnesToWord(tensString):\n",
    "            out = []\n",
    "            if tensString[0] == \"1\":\n",
    "                out += [tensOneDict[tensString[0:]]]\n",
    "            elif tensString[0] == \"0\":\n",
    "                out += [numDict[tensString[1]]]\n",
    "            else:\n",
    "                tens = numsTensDict[tensString[0]]\n",
    "                ones = numDict[tensString[1]]\n",
    "                out += [tens, ones]\n",
    "            return out\n",
    "        out = []\n",
    "        if triple[0] == \"0\":\n",
    "            out += tensAndOnesToWord(triple[1:])\n",
    "        else:\n",
    "            hundredsString = [numDict[triple[0]], \"Hundred\"]\n",
    "            out += hundredsString\n",
    "            out += tensAndOnesToWord(triple[1:])\n",
    "        return out\n",
    "    \n",
    "    n = [tripleToWord(t) for t in splitByThousands(num)]\n",
    "    ns = [\" \".join(x) for x in n]\n",
    "    f = \" \".join([\" \".join([ns[i], d[i]]) for i in range(len(ns))]).strip()\n",
    "    print(f)"
   ]
  },
  {
   "cell_type": "code",
   "execution_count": 428,
   "metadata": {},
   "outputs": [
    {
     "name": "stdout",
     "output_type": "stream",
     "text": [
      "Two Million Six Hundred Forty Three Thousand Eight Hundred Twenty Nine\n"
     ]
    }
   ],
   "source": [
    "#test\n",
    "numberToWords(2643829)"
   ]
  },
  {
   "cell_type": "code",
   "execution_count": null,
   "metadata": {},
   "outputs": [],
   "source": []
  }
 ],
 "metadata": {
  "kernelspec": {
   "display_name": "Python 3",
   "language": "python",
   "name": "python3"
  },
  "language_info": {
   "codemirror_mode": {
    "name": "ipython",
    "version": 3
   },
   "file_extension": ".py",
   "mimetype": "text/x-python",
   "name": "python",
   "nbconvert_exporter": "python",
   "pygments_lexer": "ipython3",
   "version": "3.7.8"
  }
 },
 "nbformat": 4,
 "nbformat_minor": 4
}
