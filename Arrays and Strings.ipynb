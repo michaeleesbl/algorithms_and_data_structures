{
 "cells": [
  {
   "cell_type": "markdown",
   "metadata": {},
   "source": [
    "### Pascal's Triangle"
   ]
  },
  {
   "cell_type": "code",
   "execution_count": 110,
   "metadata": {},
   "outputs": [],
   "source": [
    "def generate(numRows):\n",
    "    \"\"\"\n",
    "    :type numRows: int\n",
    "    :rtype: List[List[int]]\n",
    "    \"\"\"\n",
    "    if numRows == 0: return []\n",
    "    rows = []\n",
    "    def generateNewRow(oldRow):\n",
    "        if len(oldRow) == 1:\n",
    "            return [1, 1]\n",
    "        newRow = [1] * (len(oldRow) + 1)\n",
    "        for i in range(1, len(oldRow)):\n",
    "            newRow[i] = oldRow[i - 1] + oldRow[i]\n",
    "        return newRow\n",
    "\n",
    "    rows.append([1])\n",
    "    for i in range(1, numRows):\n",
    "        newRow = generateNewRow(rows[i - 1])\n",
    "        #print(newRow)\n",
    "        rows.append(newRow)\n",
    "        row = newRow\n",
    "    return rows"
   ]
  },
  {
   "cell_type": "code",
   "execution_count": 111,
   "metadata": {},
   "outputs": [
    {
     "name": "stdout",
     "output_type": "stream",
     "text": [
      "[1]\n",
      "[1, 1]\n",
      "[1, 2, 1]\n",
      "[1, 3, 3, 1]\n",
      "[1, 4, 6, 4, 1]\n"
     ]
    }
   ],
   "source": [
    "#test\n",
    "pascal_five = generate(5)\n",
    "for i in range(len(pascal_five)):\n",
    "    print(pascal_five[i])"
   ]
  },
  {
   "cell_type": "markdown",
   "metadata": {},
   "source": [
    "### Integer to English Words"
   ]
  },
  {
   "cell_type": "code",
   "execution_count": 425,
   "metadata": {},
   "outputs": [],
   "source": [
    "def numberToWords(num):\n",
    "    if num == 0: return \"Zero\"\n",
    "    # numDict to be used for nums in ones or hundreds place\n",
    "    nums = [str(i) for i in range(0,10)]\n",
    "    numStrings = [\"\",\"One\",\"Two\",\"Three\",\"Four\",\"Five\",\"Six\",\"Seven\",\"Eight\",\"Nine\"]\n",
    "    numDict = dict(zip(nums, numStrings))\n",
    "    \n",
    "    # to be used when tens place is 1\n",
    "    numsTensOne = [str(i) for i in range(10,20)]\n",
    "    numsTensOneStrings = [\"Ten\",\"Eleven\",\"Twelve\",\"Thirteen\",\"Fourteen\",\"Fifteen\",\"Sixteen\",\"Seventeen\",\"Eighteen\",\"Nineteen\"]\n",
    "    tensOneDict = dict(zip(numsTensOne, numsTensOneStrings))\n",
    "    \n",
    "    # to be used when tens place is > 1\n",
    "    numsTens = [str(i) for i in range(2,10)]\n",
    "    numsTensStrings = [\"Twenty\",\"Thirty\",\"Forty\",\"Fifty\",\"Sixty\",\"Seventy\",\"Eighty\",\"Ninety\"]\n",
    "    numsTensDict = dict(zip(numsTens, numsTensStrings))\n",
    "\n",
    "    def splitByThousands(num):\n",
    "        n = num\n",
    "        triples = []\n",
    "\n",
    "        while (n / 1000) > 0:\n",
    "            triples.append(str(int(n % 1000)))\n",
    "            n = int(n / 1000)\n",
    "        triples.reverse()\n",
    "        triples = [format(t, '0>' + str(3)) for t in triples]\n",
    "        \n",
    "        return triples\n",
    "\n",
    "    appendix = [\"Billion\", \"Million\", \"Thousand\",\"\"]\n",
    "    d = appendix[-1 * len(splitByThousands(num)):]\n",
    "    \n",
    "    def tripleToWord(triple):\n",
    "        def tensAndOnesToWord(tensString):\n",
    "            out = []\n",
    "            if tensString[0] == \"1\":\n",
    "                out += [tensOneDict[tensString[0:]]]\n",
    "            elif tensString[0] == \"0\":\n",
    "                out += [numDict[tensString[1]]]\n",
    "            else:\n",
    "                tens = numsTensDict[tensString[0]]\n",
    "                ones = numDict[tensString[1]]\n",
    "                out += [tens, ones]\n",
    "            return out\n",
    "        out = []\n",
    "        if triple[0] == \"0\":\n",
    "            out += tensAndOnesToWord(triple[1:])\n",
    "        else:\n",
    "            hundredsString = [numDict[triple[0]], \"Hundred\"]\n",
    "            out += hundredsString\n",
    "            out += tensAndOnesToWord(triple[1:])\n",
    "        return out\n",
    "    \n",
    "    n = [tripleToWord(t) for t in splitByThousands(num)]\n",
    "    ns = [\" \".join(x) for x in n]\n",
    "    f = \" \".join([\" \".join([ns[i], d[i]]) for i in range(len(ns))]).strip()\n",
    "    print(f)"
   ]
  },
  {
   "cell_type": "code",
   "execution_count": 428,
   "metadata": {},
   "outputs": [
    {
     "name": "stdout",
     "output_type": "stream",
     "text": [
      "Two Million Six Hundred Forty Three Thousand Eight Hundred Twenty Nine\n"
     ]
    }
   ],
   "source": [
    "#test\n",
    "numberToWords(2643829)"
   ]
  },
  {
   "cell_type": "markdown",
   "metadata": {},
   "source": [
    "### Move Zeroes"
   ]
  },
  {
   "cell_type": "code",
   "execution_count": 27,
   "metadata": {},
   "outputs": [],
   "source": [
    "def moveZeroes(nums):\n",
    "    tmp = [0] * len(nums)\n",
    "    j = 0\n",
    "    for i in range(len(nums)):\n",
    "        if nums[i] != 0:\n",
    "            tmp[j] = nums[i]\n",
    "            j += 1\n",
    "    return tmp"
   ]
  },
  {
   "cell_type": "code",
   "execution_count": 28,
   "metadata": {},
   "outputs": [
    {
     "data": {
      "text/plain": [
       "[1, 3, 12, 0, 0]"
      ]
     },
     "execution_count": 28,
     "metadata": {},
     "output_type": "execute_result"
    }
   ],
   "source": [
    "#test\n",
    "moveZeroes([1, 3, 12, 0, 0])"
   ]
  },
  {
   "cell_type": "code",
   "execution_count": 29,
   "metadata": {},
   "outputs": [],
   "source": [
    "def moveZeroesInPlace(nums):\n",
    "    i = 0\n",
    "    j = 0\n",
    "    while i < len(nums):\n",
    "        if nums[i] != 0:\n",
    "            nums[j] = nums[i]\n",
    "            j += 1\n",
    "        i += 1\n",
    "    for k in range(j, len(nums)):\n",
    "        nums[k] = 0"
   ]
  },
  {
   "cell_type": "code",
   "execution_count": 32,
   "metadata": {},
   "outputs": [
    {
     "name": "stdout",
     "output_type": "stream",
     "text": [
      "[1, 3, 12, 0, 0]\n"
     ]
    }
   ],
   "source": [
    "#test\n",
    "nums = [1, 3, 12, 0, 0]\n",
    "moveZeroesInPlace(nums)\n",
    "print(nums)"
   ]
  },
  {
   "cell_type": "markdown",
   "metadata": {},
   "source": [
    "### First Unique Character in String"
   ]
  },
  {
   "cell_type": "code",
   "execution_count": 2,
   "metadata": {},
   "outputs": [],
   "source": [
    "#not using Counter dictionary\n",
    "def firstUniqChar(s):\n",
    "    countsDict = {}\n",
    "    idxs = []\n",
    "    for i in range(len(s)):\n",
    "        char = s[i]\n",
    "        if char not in countsDict.keys():\n",
    "            countsDict[char] = 1\n",
    "            idxs.append(i)\n",
    "        else:\n",
    "            countsDict[char] += 1\n",
    "    countsOneList = list(map(lambda x: 1 if x==1 else 0, countsDict.values()))\n",
    "    if 1 in countsOneList:\n",
    "        return idxs[countsOneList.index(1)]\n",
    "    return -1"
   ]
  },
  {
   "cell_type": "code",
   "execution_count": 3,
   "metadata": {},
   "outputs": [
    {
     "data": {
      "text/plain": [
       "0"
      ]
     },
     "execution_count": 3,
     "metadata": {},
     "output_type": "execute_result"
    }
   ],
   "source": [
    "#test\n",
    "firstUniqChar(\"leetcode\")"
   ]
  },
  {
   "cell_type": "code",
   "execution_count": 8,
   "metadata": {},
   "outputs": [],
   "source": [
    "#using Counter\n",
    "import collections\n",
    "def firstUniqChar2(s):\n",
    "    c = collections.Counter(s)\n",
    "    for k,v in c.items():\n",
    "        if v==1:\n",
    "            return s.index(k)\n",
    "    return -1"
   ]
  },
  {
   "cell_type": "code",
   "execution_count": 9,
   "metadata": {},
   "outputs": [
    {
     "data": {
      "text/plain": [
       "0"
      ]
     },
     "execution_count": 9,
     "metadata": {},
     "output_type": "execute_result"
    }
   ],
   "source": [
    "#test\n",
    "firstUniqChar2(\"leetcode\")"
   ]
  },
  {
   "cell_type": "markdown",
   "metadata": {},
   "source": [
    "### Candy Crush"
   ]
  },
  {
   "cell_type": "code",
   "execution_count": 133,
   "metadata": {},
   "outputs": [],
   "source": [
    "def candyCrush(board):\n",
    "    R, C = len(board), len(board[0])\n",
    "    todo = False\n",
    "\n",
    "    for r in range(R):\n",
    "        for c in range(C-2):\n",
    "            if abs(board[r][c]) == abs(board[r][c+1]) == abs(board[r][c+2]) != 0:\n",
    "                board[r][c] = board[r][c+1] = board[r][c+2] = -abs(board[r][c])\n",
    "                todo = True\n",
    "\n",
    "    for r in range(R-2):\n",
    "        for c in range(C):\n",
    "            if abs(board[r][c]) == abs(board[r+1][c]) == abs(board[r+2][c]) != 0:\n",
    "                board[r][c] = board[r+1][c] = board[r+2][c] = -abs(board[r][c])\n",
    "                todo = True\n",
    "    #print(board)\n",
    "    for c in range(C):\n",
    "        wr = R-1\n",
    "        for r in range(R-1, -1, -1):\n",
    "            if board[r][c] > 0:\n",
    "                board[wr][c] = board[r][c]\n",
    "                wr -= 1\n",
    "            #print(board)\n",
    "        for wr in range(wr, -1, -1):\n",
    "            board[wr][c] = 0\n",
    "    #print(board)\n",
    "    return candyCrush(board) if todo else board"
   ]
  },
  {
   "cell_type": "code",
   "execution_count": 134,
   "metadata": {},
   "outputs": [
    {
     "data": {
      "text/plain": [
       "[[0, 0, 0, 0, 0],\n",
       " [0, 0, 0, 0, 0],\n",
       " [0, 0, 0, 0, 0],\n",
       " [110, 0, 0, 0, 114],\n",
       " [210, 0, 0, 0, 214],\n",
       " [310, 0, 0, 113, 314],\n",
       " [410, 0, 0, 213, 414],\n",
       " [610, 211, 112, 313, 614],\n",
       " [710, 311, 412, 613, 714],\n",
       " [810, 411, 512, 713, 1014]]"
      ]
     },
     "execution_count": 134,
     "metadata": {},
     "output_type": "execute_result"
    }
   ],
   "source": [
    "#test\n",
    "board = [[110,5,112,113,114],\n",
    "         [210,211,5,213,214],\n",
    "         [310,311,3,313,314],\n",
    "         [410,411,412,5,414],\n",
    "         [5,1,512,3,3],\n",
    "         [610,4,1,613,614],\n",
    "         [710,1,2,713,714],\n",
    "         [810,1,2,1,1],\n",
    "         [1,1,2,2,2],\n",
    "         [4,1,4,4,1014]]\n",
    "candyCrush(board)"
   ]
  }
 ],
 "metadata": {
  "kernelspec": {
   "display_name": "Python 3",
   "language": "python",
   "name": "python3"
  },
  "language_info": {
   "codemirror_mode": {
    "name": "ipython",
    "version": 3
   },
   "file_extension": ".py",
   "mimetype": "text/x-python",
   "name": "python",
   "nbconvert_exporter": "python",
   "pygments_lexer": "ipython3",
   "version": "3.7.8"
  }
 },
 "nbformat": 4,
 "nbformat_minor": 4
}
